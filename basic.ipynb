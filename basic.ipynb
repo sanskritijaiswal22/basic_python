{
  "nbformat": 4,
  "nbformat_minor": 0,
  "metadata": {
    "colab": {
      "provenance": []
    },
    "kernelspec": {
      "name": "python3",
      "display_name": "Python 3"
    },
    "language_info": {
      "name": "python"
    }
  },
  "cells": [
    {
      "cell_type": "code",
      "execution_count": null,
      "metadata": {
        "id": "6gZTLhDyifHV"
      },
      "outputs": [],
      "source": []
    },
    {
      "cell_type": "markdown",
      "source": [
        "#Basic_python"
      ],
      "metadata": {
        "id": "jaAPedtanfzT"
      }
    },
    {
      "cell_type": "markdown",
      "source": [
        "1.Explain the key features of Python that make it a popular choice for programming\n",
        "\n",
        "- Key Features of Python That Make It a Popular Choice for Programming Python is one of the most widely used programming languages today. Its popularity is mainly due to the following features:\n",
        "\n",
        "**Simple and Readable Syntax**: Python's syntax is clear and easy to understand, which makes it beginner-friendly. For example, indentation is used instead of curly braces.\n",
        "\n",
        "**Interpreted Language**: Python executes the code line-by-line, which makes it easier to debug.\n",
        "\n",
        "**Dynamically Typed**: Variables don't need explicit declaration of data types. The interpreter automatically detects the type.\n",
        "\n",
        "**Extensive Library Support**: Python has built-in libraries for various purposes like web development, data science, machine learning, etc.\n",
        "\n",
        "**Cross-Platform Compatibility**: Python code can run on Windows, Mac, Linux without modifications.\n",
        "\n",
        "**Object-Oriented and Functional**: Python supports both object-oriented and functional programming paradigms.\n",
        "\n",
        "**Large Community and Resources**: Python has a huge community, so help is easily available through forums, documentation, and tutorials.\n",
        "\n",
        "2.Describe the role of predefined keywords in Python and provide examples of how they are used in a program\n",
        "- Predefined keywords in Python are reserved words that cannot be used as variable names because they have special meaning in the language.\n",
        "\n",
        "Some common keywords include: if, else, while, for, True, False, def, return, None, etc.\n",
        "\n",
        "Example Program:\n"
      ],
      "metadata": {
        "id": "UO1P_mNYn6ob"
      }
    },
    {
      "cell_type": "markdown",
      "source": [],
      "metadata": {
        "id": "RgkE5pVZnxXw"
      }
    },
    {
      "cell_type": "code",
      "source": [
        "def check_number(num):\n",
        "    if num > 0:\n",
        "        print(\"Positive number\")\n",
        "    elif num == 0:\n",
        "        print(\"Zero\")\n",
        "    else:\n",
        "        print(\"Negative number\")\n"
      ],
      "metadata": {
        "id": "w4_oNNrWpQ_1"
      },
      "execution_count": 9,
      "outputs": []
    },
    {
      "cell_type": "markdown",
      "source": [
        "In the above code, def, if, elif, and else are all keywords used to define a function and handle conditions."
      ],
      "metadata": {
        "id": "jjHrGxEkpg1z"
      }
    },
    {
      "cell_type": "markdown",
      "source": [
        "3. Compare and contrast mutable and immutable objects in Python with examples?\n",
        "-   **Mutable vs Immutable Objects in Python**:\n",
        "    In Python, mutability refers to whether an object can be changed after it is created.\n",
        "\n",
        "\n",
        "**Type\tMutable**:\n",
        "**Definition**:\tCan be modified after creation.\n",
        "\n",
        "**Examples**:\tList, Dictionary, Set.\n",
        "\n",
        "**type immutable**: Cannot be modified once created.\n",
        "\n",
        "**examples**:Integer, Float, String, Tuple"
      ],
      "metadata": {
        "id": "vye-Kreapr_j"
      }
    },
    {
      "cell_type": "code",
      "source": [
        "my_list = [1, 2, 3]\n",
        "my_list[0] = 10\n",
        "print(my_list)\n"
      ],
      "metadata": {
        "colab": {
          "base_uri": "https://localhost:8080/"
        },
        "id": "wBwIDMSmriGM",
        "outputId": "494486f9-2bb9-4ec1-8fc5-827df8d84e3a"
      },
      "execution_count": 5,
      "outputs": [
        {
          "output_type": "stream",
          "name": "stdout",
          "text": [
            "[10, 2, 3]\n"
          ]
        }
      ]
    },
    {
      "cell_type": "code",
      "source": [
        "#immutable example\n",
        "my_string = \"hello\"\n",
        "# my_string[0] = 'H'  # This will cause an error\n",
        "my_string = \"Hello\"  # A new string is created\n",
        "print(my_string)\n"
      ],
      "metadata": {
        "colab": {
          "base_uri": "https://localhost:8080/"
        },
        "id": "1qYuJ_Ihr3qD",
        "outputId": "39c8a2a3-7420-4a12-bb33-b401a2b4d48b"
      },
      "execution_count": 10,
      "outputs": [
        {
          "output_type": "stream",
          "name": "stdout",
          "text": [
            "Hello\n"
          ]
        }
      ]
    },
    {
      "cell_type": "markdown",
      "source": [
        "Mutability affects how variables are stored and passed in functions, making it an important concept in Python.\n",
        "\n",
        "4.Discuss the different types of operators in Python and provide examples of how they are used?\n",
        "- Operators are used to perform operations on variables and values.\n",
        "\n",
        "a) Arithmetic Operators:\n",
        "Used for basic mathematical operations."
      ],
      "metadata": {
        "id": "2XNIkWBUsgeO"
      }
    },
    {
      "cell_type": "code",
      "source": [
        "a = 10\n",
        "b = 3\n",
        "print(a + b)\n",
        "print(a % b)\n"
      ],
      "metadata": {
        "colab": {
          "base_uri": "https://localhost:8080/"
        },
        "id": "1TpB3UfrtIUN",
        "outputId": "780b07a8-633a-4764-b272-0c001c5b2af6"
      },
      "execution_count": 11,
      "outputs": [
        {
          "output_type": "stream",
          "name": "stdout",
          "text": [
            "13\n",
            "1\n"
          ]
        }
      ]
    },
    {
      "cell_type": "markdown",
      "source": [
        "b) Comparison Operators:\n",
        "Used to compare two values."
      ],
      "metadata": {
        "id": "ILW3ykj2tRky"
      }
    },
    {
      "cell_type": "code",
      "source": [
        "print(a > b)\n",
        "print(a == b)\n"
      ],
      "metadata": {
        "colab": {
          "base_uri": "https://localhost:8080/"
        },
        "id": "Cftu7YhbtYIf",
        "outputId": "fa49296f-1791-45c0-b861-a0a4c0704cf6"
      },
      "execution_count": 12,
      "outputs": [
        {
          "output_type": "stream",
          "name": "stdout",
          "text": [
            "True\n",
            "False\n"
          ]
        }
      ]
    },
    {
      "cell_type": "markdown",
      "source": [
        "c) Logical Operators:\n",
        "Used to combine multiple conditions."
      ],
      "metadata": {
        "id": "88qRZvI3tkkg"
      }
    },
    {
      "cell_type": "code",
      "source": [
        "x = True\n",
        "y = False\n",
        "print(x and y)\n"
      ],
      "metadata": {
        "colab": {
          "base_uri": "https://localhost:8080/"
        },
        "id": "LtV1HQNOtnwq",
        "outputId": "e46d0f74-6f24-44d0-ed79-c405834f9d68"
      },
      "execution_count": 13,
      "outputs": [
        {
          "output_type": "stream",
          "name": "stdout",
          "text": [
            "False\n"
          ]
        }
      ]
    },
    {
      "cell_type": "markdown",
      "source": [
        "d) Assignment Operators:\n",
        "Used to assign values to variables."
      ],
      "metadata": {
        "id": "S7LFX5Pdty-o"
      }
    },
    {
      "cell_type": "code",
      "source": [
        "a = 5\n",
        "a += 2\n",
        "print(a)\n"
      ],
      "metadata": {
        "colab": {
          "base_uri": "https://localhost:8080/"
        },
        "id": "oShFlb1At0g9",
        "outputId": "c64f0f9d-28fa-4ccd-948f-6aa7beea302c"
      },
      "execution_count": 14,
      "outputs": [
        {
          "output_type": "stream",
          "name": "stdout",
          "text": [
            "7\n"
          ]
        }
      ]
    },
    {
      "cell_type": "markdown",
      "source": [
        "e) Bitwise Operators:\n",
        "Used to perform bit-level operations."
      ],
      "metadata": {
        "id": "GvuFJ88SuI7G"
      }
    },
    {
      "cell_type": "code",
      "source": [
        "print(5 & 3)\n"
      ],
      "metadata": {
        "colab": {
          "base_uri": "https://localhost:8080/"
        },
        "id": "WsV1tLZSuKmV",
        "outputId": "c0b40085-8d0a-4d97-e65d-335902ce5613"
      },
      "execution_count": 15,
      "outputs": [
        {
          "output_type": "stream",
          "name": "stdout",
          "text": [
            "1\n"
          ]
        }
      ]
    },
    {
      "cell_type": "markdown",
      "source": [
        "f) Membership Operators:\n",
        "Used to test if a value is in a sequence."
      ],
      "metadata": {
        "id": "K9dtCveAupRj"
      }
    },
    {
      "cell_type": "code",
      "source": [
        "print(3 in [1, 2, 3])"
      ],
      "metadata": {
        "colab": {
          "base_uri": "https://localhost:8080/"
        },
        "id": "GDB34WYmusnF",
        "outputId": "41fad3ba-5dcc-459d-b0c8-4a47dd427d3b"
      },
      "execution_count": 16,
      "outputs": [
        {
          "output_type": "stream",
          "name": "stdout",
          "text": [
            "True\n"
          ]
        }
      ]
    },
    {
      "cell_type": "markdown",
      "source": [
        "g) Identity Operators:\n",
        "Used to check if two variables refer to the same object."
      ],
      "metadata": {
        "id": "SsP3bhyju2Ls"
      }
    },
    {
      "cell_type": "code",
      "source": [
        "a = [1, 2]\n",
        "b = a\n",
        "print(a is b)"
      ],
      "metadata": {
        "colab": {
          "base_uri": "https://localhost:8080/"
        },
        "id": "rHN2_ilSu4Wn",
        "outputId": "95de03cf-48f3-43cb-8f0f-b8c86e12deaf"
      },
      "execution_count": 17,
      "outputs": [
        {
          "output_type": "stream",
          "name": "stdout",
          "text": [
            "True\n"
          ]
        }
      ]
    },
    {
      "cell_type": "markdown",
      "source": [
        "5.Explain the concept of type casting in Python with examples?\n",
        "- **Type Casting in Python**\n",
        "Type casting is the process of converting the data type of a value into another data type.\n",
        "\n",
        "Types of Type Casting:\n",
        "int() – Converts to integer\n",
        "\n",
        "float() – Converts to float\n",
        "\n",
        "str() – Converts to string\n",
        "\n",
        "list() – Converts to list\n",
        "\n",
        "Examples:"
      ],
      "metadata": {
        "id": "JnExhtWAvHTf"
      }
    },
    {
      "cell_type": "code",
      "source": [
        "x = \"10\"\n",
        "y = int(x)\n",
        "print(y + 5)\n",
        "\n",
        "a = 3.14\n",
        "b = str(a)\n",
        "print(\"Value is \" + b)\n"
      ],
      "metadata": {
        "colab": {
          "base_uri": "https://localhost:8080/"
        },
        "id": "CVYV50zZvaHt",
        "outputId": "b9637d37-bd4d-4d46-e9dd-dbb41f94b138"
      },
      "execution_count": 18,
      "outputs": [
        {
          "output_type": "stream",
          "name": "stdout",
          "text": [
            "15\n",
            "Value is 3.14\n"
          ]
        }
      ]
    },
    {
      "cell_type": "markdown",
      "source": [
        "\n",
        "6.How do conditional statements work in Python? Illustrate with examples.\n",
        "\n",
        "- **Conditional Statements in Python**:\n",
        "Conditional statements allow us to execute a block of code only when a certain condition is true.\n",
        "\n",
        "Syntax:if condition:\n",
        "    # code\n",
        "elif another_condition:\n",
        "    # code\n",
        "else:\n",
        "    # code\n",
        "examples:"
      ],
      "metadata": {
        "id": "YEQhP94gvkeZ"
      }
    },
    {
      "cell_type": "code",
      "source": [
        "num = 7\n",
        "if num % 2 == 0:\n",
        "    print(\"Even\")\n",
        "else:\n",
        "    print(\"Odd\")\n"
      ],
      "metadata": {
        "colab": {
          "base_uri": "https://localhost:8080/"
        },
        "id": "TqmXlur2wRR8",
        "outputId": "83cd11fa-a138-4f30-8fca-e0172a165085"
      },
      "execution_count": 20,
      "outputs": [
        {
          "output_type": "stream",
          "name": "stdout",
          "text": [
            "Odd\n"
          ]
        }
      ]
    },
    {
      "cell_type": "markdown",
      "source": [
        "This code checks if a number is even or odd using an if-else condition.\n",
        "\n",
        "7.Describe the different types of loops in Python and their use cases with examples.\n",
        "\n",
        "- a) For Loop:\n",
        "Used when the number of iterations is known."
      ],
      "metadata": {
        "id": "DpxkaI4KwbwF"
      }
    },
    {
      "cell_type": "code",
      "source": [
        "for i in range(5):\n",
        "    print(i)\n"
      ],
      "metadata": {
        "colab": {
          "base_uri": "https://localhost:8080/"
        },
        "id": "w2vvYIA_w19B",
        "outputId": "8520cff3-d1a4-4ec9-fa77-d6cb00dca3bb"
      },
      "execution_count": 21,
      "outputs": [
        {
          "output_type": "stream",
          "name": "stdout",
          "text": [
            "0\n",
            "1\n",
            "2\n",
            "3\n",
            "4\n"
          ]
        }
      ]
    },
    {
      "cell_type": "markdown",
      "source": [
        "b) While Loop:\n",
        "Used when the number of iterations is not known in advance."
      ],
      "metadata": {
        "id": "YEiqP41Ew5DN"
      }
    },
    {
      "cell_type": "code",
      "source": [
        "i = 1\n",
        "while i <= 5:\n",
        "    print(i)\n",
        "    i += 1\n"
      ],
      "metadata": {
        "colab": {
          "base_uri": "https://localhost:8080/"
        },
        "id": "foNJKwXmw_Nn",
        "outputId": "e267bec2-ee02-425b-9b15-7d019a3ca782"
      },
      "execution_count": 22,
      "outputs": [
        {
          "output_type": "stream",
          "name": "stdout",
          "text": [
            "1\n",
            "2\n",
            "3\n",
            "4\n",
            "5\n"
          ]
        }
      ]
    },
    {
      "cell_type": "markdown",
      "source": [
        "c) Nested Loops:\n",
        "Loops inside loops for working with multi-dimensional data."
      ],
      "metadata": {
        "id": "fa_ievoCxDYP"
      }
    },
    {
      "cell_type": "code",
      "source": [
        "for i in range(3):\n",
        "    for j in range(2):\n",
        "        print(i, j)\n"
      ],
      "metadata": {
        "colab": {
          "base_uri": "https://localhost:8080/"
        },
        "id": "apkpB4SHxH-S",
        "outputId": "1aee2335-8a2f-490a-ff6f-f6a0cf3d8680"
      },
      "execution_count": 23,
      "outputs": [
        {
          "output_type": "stream",
          "name": "stdout",
          "text": [
            "0 0\n",
            "0 1\n",
            "1 0\n",
            "1 1\n",
            "2 0\n",
            "2 1\n"
          ]
        }
      ]
    },
    {
      "cell_type": "markdown",
      "source": [
        "Use Cases:\n",
        "For loop: Iterating through lists, strings, arrays, etc.\n",
        "\n",
        "While loop: Waiting for a condition like user input or a signal."
      ],
      "metadata": {
        "id": "WN6T2GClxMjo"
      }
    },
    {
      "cell_type": "markdown",
      "source": [],
      "metadata": {
        "id": "CUk3vtDetcFZ"
      }
    },
    {
      "cell_type": "markdown",
      "source": [],
      "metadata": {
        "id": "xlUREut8ryga"
      }
    },
    {
      "cell_type": "markdown",
      "source": [],
      "metadata": {
        "id": "LVpLRO6ymvDN"
      }
    }
  ]
}